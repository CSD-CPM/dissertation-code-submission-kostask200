{
 "cells": [
  {
   "cell_type": "markdown",
   "id": "bcdf22dd",
   "metadata": {},
   "source": [
    "# Import Modules"
   ]
  },
  {
   "cell_type": "code",
   "execution_count": null,
   "id": "8d252f4d",
   "metadata": {},
   "outputs": [],
   "source": [
    "# Import modules\n",
    "import pandas as pd\n",
    "import os"
   ]
  },
  {
   "cell_type": "markdown",
   "id": "762dd576",
   "metadata": {},
   "source": [
    "# Load Data"
   ]
  },
  {
   "cell_type": "code",
   "execution_count": null,
   "id": "9c633aab",
   "metadata": {},
   "outputs": [],
   "source": [
    "# Set up paths\n",
    "RAW_PATH = \"../data/raw/\"\n",
    "PROCESSED_PATH = \"../data/processed/\""
   ]
  },
  {
   "cell_type": "code",
   "execution_count": null,
   "id": "eccde1a8",
   "metadata": {},
   "outputs": [],
   "source": [
    "# Load and clean yield.csv\n",
    "yield_df = pd.read_csv(os.path.join(RAW_PATH, \"yield.csv\"))[['Area', 'Item', 'Year', 'Value']]\n",
    "yield_df['Value'] = pd.to_numeric(yield_df['Value'], errors='coerce')\n",
    "yield_df = yield_df.dropna(subset=['Value']).rename(columns={'Value': 'Yield'})\n",
    "\n",
    "# Load and clean area_harvested.csv\n",
    "area_df = pd.read_csv(os.path.join(RAW_PATH, \"area_harvested.csv\"))[['Area', 'Item', 'Year', 'Value']]\n",
    "area_df['Value'] = pd.to_numeric(area_df['Value'], errors='coerce')\n",
    "area_df = area_df.dropna(subset=['Value']).rename(columns={'Value': 'Area_Harvested'})\n",
    "\n",
    "# Load and clean production_quantity.csv\n",
    "prod_df = pd.read_csv(os.path.join(RAW_PATH, \"production_quantity.csv\"))[['Area', 'Item', 'Year', 'Value']]\n",
    "prod_df['Value'] = pd.to_numeric(prod_df['Value'], errors='coerce')\n",
    "prod_df = prod_df.dropna(subset=['Value']).rename(columns={'Value': 'Production_Quantity'})"
   ]
  },
  {
   "cell_type": "markdown",
   "id": "1121f347",
   "metadata": {},
   "source": [
    "# Merge Data"
   ]
  },
  {
   "cell_type": "code",
   "execution_count": null,
   "id": "8873fe3e",
   "metadata": {},
   "outputs": [],
   "source": [
    "# Harmonize country names\n",
    "area_rename_map = {\n",
    "    \"Netherlands (Kingdom of the)\": \"Netherlands\",\n",
    "    \"Republic of Moldova\": \"Moldova\",\n",
    "    \"Slovakia\": \"Slovak Republic\",\n",
    "    \"United Kingdom of Great Britain and Northern Ireland\": \"United Kingdom\"\n",
    "}\n",
    "for df in [yield_df, area_df, prod_df]:\n",
    "    df['Area'] = df['Area'].replace(area_rename_map)"
   ]
  },
  {
   "cell_type": "code",
   "execution_count": null,
   "id": "d42b39f9",
   "metadata": {},
   "outputs": [],
   "source": [
    "# Merge the three main datasets\n",
    "merged_df = pd.merge(yield_df, area_df, on=['Area', 'Item', 'Year'], how='inner')\n",
    "merged_df = pd.merge(merged_df, prod_df, on=['Area', 'Item', 'Year'], how='inner')"
   ]
  },
  {
   "cell_type": "code",
   "execution_count": null,
   "id": "22612bb0",
   "metadata": {},
   "outputs": [],
   "source": [
    "# Drop obsolete countries\n",
    "drop_countries = [\n",
    "    \"Belgium-Luxembourg\", \"Czechoslovakia\", \"Serbia and Montenegro\", \"USSR\", \"Yugoslav SFR\"\n",
    "]\n",
    "merged_df = merged_df[~merged_df['Area'].isin(drop_countries)]"
   ]
  },
  {
   "cell_type": "code",
   "execution_count": null,
   "id": "a7f6f050",
   "metadata": {},
   "outputs": [],
   "source": [
    "# Remove year 2023 (not present in all datasets)\n",
    "merged_df = merged_df[merged_df['Year'] <= 2022]"
   ]
  },
  {
   "cell_type": "code",
   "execution_count": null,
   "id": "8fdac83e",
   "metadata": {},
   "outputs": [],
   "source": [
    "# Load and process features.csv\n",
    "features_df = pd.read_csv(os.path.join(RAW_PATH, \"features.csv\"))\n",
    "features_long = features_df.melt(\n",
    "    id_vars=[\"REF_AREA_LABEL\", \"INDICATOR\", \"INDICATOR_LABEL\"],\n",
    "    var_name=\"Year\",\n",
    "    value_name=\"Value\"\n",
    ")\n",
    "features_long = features_long.rename(columns={\"REF_AREA_LABEL\": \"Area\"})\n",
    "features_long['Year'] = pd.to_numeric(features_long['Year'], errors='coerce')\n",
    "features_long = features_long.dropna(subset=['Year', 'Value'])\n",
    "features_long['Year'] = features_long['Year'].astype(int)"
   ]
  },
  {
   "cell_type": "code",
   "execution_count": null,
   "id": "992c76d0",
   "metadata": {},
   "outputs": [],
   "source": [
    "# Pivot features\n",
    "features_pivot = features_long.pivot_table(\n",
    "    index=[\"Area\", \"Year\"],\n",
    "    columns=\"INDICATOR\",\n",
    "    values=\"Value\",\n",
    "    aggfunc=\"first\"\n",
    ").reset_index()"
   ]
  },
  {
   "cell_type": "code",
   "execution_count": null,
   "id": "bf6d7bfa",
   "metadata": {},
   "outputs": [],
   "source": [
    "# Merge with features\n",
    "final_df = pd.merge(merged_df, features_pivot, on=[\"Area\", \"Year\"], how=\"left\")"
   ]
  },
  {
   "cell_type": "markdown",
   "id": "96b05cf8",
   "metadata": {},
   "source": [
    "# Save Merged Dataset"
   ]
  },
  {
   "cell_type": "code",
   "execution_count": null,
   "id": "3c115e4e",
   "metadata": {},
   "outputs": [],
   "source": [
    "# Uppercase headers and save\n",
    "final_df.columns = [col.upper() for col in final_df.columns]\n",
    "os.makedirs(PROCESSED_PATH, exist_ok=True)"
   ]
  },
  {
   "cell_type": "code",
   "execution_count": null,
   "id": "ec211b36",
   "metadata": {},
   "outputs": [],
   "source": [
    "# Save to CSV\n",
    "final_df.to_csv(os.path.join(PROCESSED_PATH, \"merged_dataset.csv\"), index=False)"
   ]
  },
  {
   "cell_type": "code",
   "execution_count": null,
   "id": "ffa4845b",
   "metadata": {},
   "outputs": [],
   "source": [
    "# Save to Excel\n",
    "final_df.to_excel(os.path.join(PROCESSED_PATH, \"merged_dataset.xlsx\"), index=False)"
   ]
  },
  {
   "cell_type": "code",
   "execution_count": null,
   "id": "690ea6e2",
   "metadata": {},
   "outputs": [],
   "source": [
    "# Preview\n",
    "print(\"Final merged dataset preview:\")\n",
    "display(final_df.head())"
   ]
  }
 ],
 "metadata": {
  "kernelspec": {
   "display_name": "dissertation",
   "language": "python",
   "name": "python3"
  },
  "language_info": {
   "codemirror_mode": {
    "name": "ipython",
    "version": 3
   },
   "file_extension": ".py",
   "mimetype": "text/x-python",
   "name": "python",
   "nbconvert_exporter": "python",
   "pygments_lexer": "ipython3",
   "version": "3.11.13"
  }
 },
 "nbformat": 4,
 "nbformat_minor": 5
}
